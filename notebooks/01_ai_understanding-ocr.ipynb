{
 "cells": [
  {
   "cell_type": "code",
   "execution_count": 17,
   "metadata": {},
   "outputs": [],
   "source": [
    "from PIL import Image\n",
    "import pytesseract\n",
    "\n",
    "import os "
   ]
  },
  {
   "cell_type": "code",
   "execution_count": 6,
   "metadata": {},
   "outputs": [
    {
     "data": {
      "text/plain": [
       "'/Users/arzan/Academics/Projects/code-names/notebooks'"
      ]
     },
     "execution_count": 6,
     "metadata": {},
     "output_type": "execute_result"
    }
   ],
   "source": [
    "os.getcwd()"
   ]
  },
  {
   "cell_type": "code",
   "execution_count": 18,
   "metadata": {},
   "outputs": [
    {
     "name": "stdout",
     "output_type": "stream",
     "text": [
      "This is a lot of 12 point text to test the\n",
      "ocr code and see if it works on all types\n",
      "of file format.\n",
      "\n",
      "The quick brown dog jumped over the\n",
      "lazy fox. The quick brown dog jumped\n",
      "over the lazy fox. The quick brown dog\n",
      "jumped over the lazy fox. The quick\n",
      "brown dog jumped over the lazy fox.\n"
     ]
    }
   ],
   "source": [
    "print(pytesseract.image_to_string(Image.open('../data/raw/trial_images/test.jpg')))"
   ]
  },
  {
   "cell_type": "code",
   "execution_count": 8,
   "metadata": {},
   "outputs": [
    {
     "name": "stdout",
     "output_type": "stream",
     "text": [
      "This is a lot of 12 point text to test the\n",
      "ocr code and see if it works on all types\n",
      "of file format.\n",
      "\n",
      "The quick brown dog jumped over the\n",
      "lazy fox. The quick brown dog jumped\n",
      "over the lazy fox. The quick brown dog\n",
      "jumped over the lazy fox. The quick\n",
      "brown dog jumped over the lazy fox.\n"
     ]
    }
   ],
   "source": [
    "print(pytesseract.image_to_string(Image.open('../data/raw/trial_images/test.png')))"
   ]
  },
  {
   "cell_type": "code",
   "execution_count": 20,
   "metadata": {},
   "outputs": [
    {
     "name": "stdout",
     "output_type": "stream",
     "text": [
      "me # >> ;\n",
      "4 Soe | a eae i .\n",
      "cr £\n",
      "e-\n",
      "a\n",
      "Pi\n",
      "| . DAW N\n",
      "S\n",
      "\" ®\n",
      "\n",
      "PLATINUM\n",
      "ADVANCED POWER™\n",
      "\n",
      "MAY IRRITATE EYES. Do not get in eyes. Kean |\n",
      "out of reach of children. FIRST AID TREAT *7: |\n",
      "|\n",
      "\n",
      "     \n",
      "   \n",
      " \n",
      " \n",
      "    \n",
      "       \n",
      "   \n",
      "   \n",
      "   \n",
      "   \n",
      "\n",
      "   \n",
      " \n",
      " \n",
      "  \n",
      "\n",
      " \n",
      "\n",
      "   \n",
      "\n",
      "Contains biodegradable anionic surfactants. *\n",
      "swallowed, drink a glass of water to dilute. ':\n",
      "eyes, rinse with water for 15 minutes. E\n",
      "\n",
      "Not for use in dishwashers. Do not add bleach. === =e\n",
      "\n",
      " \n",
      " \n",
      "\n",
      "    \n",
      "   \n",
      "   \n",
      "   \n",
      "   \n",
      "   \n",
      "   \n",
      "   \n",
      "     \n",
      "  \n",
      "      \n",
      "   \n",
      "   \n",
      "\n",
      " \n",
      " \n",
      "\n",
      " \n",
      "\n",
      " \n",
      "\n",
      "Contains no phosphate. Se =O\n",
      "PEUT IRRITER LES YEUX. Eviter tout. | ===. _ ===\n",
      "contact avec les yeux. Tenir hors de fa\") =———--——=\n",
      "ae _ so ae SOINS : SS\n",
      "ntient des surfactifs anioniques\n",
      "biodégradables. En cas dingestion, «= | —<=——==r\n",
      "boire un verre d'eau pour diluer. En | 77\"\n",
      "Cas de contact avec les yeux, rincer ——\n",
      "\n",
      "avec de l'eau pendant 15 minutes.\n",
      "Ne pas utiliser dans le lave-vaisselle. Ne pas ajouter de\n",
      "\n",
      "Sans phosphate.\n",
      "\n",
      "a Questions? Call toll-free/Questions? Composez sans frals\n",
      "le 1-800-725-3296 Visit/Visitez le www.dawn-disn.com\n",
      "\n",
      "and/et le www.homemadesimple.com\n",
      "Imported for/importé pour PROCTER & GAMBLE INC.\n",
      "\n",
      "TORONTO, ON M5W1C5. ©2015 P&G\n",
      "\n",
      "liste 97011455\n",
      "\n",
      "javellisant.\n"
     ]
    }
   ],
   "source": [
    "print(pytesseract.image_to_string(Image.open('../data/raw/trial_images/test1.jpg')))"
   ]
  },
  {
   "cell_type": "code",
   "execution_count": 11,
   "metadata": {},
   "outputs": [
    {
     "name": "stdout",
     "output_type": "stream",
     "text": [
      "01_ai_understanding-ocr.ipynb  README.md\n",
      "01_aq_understanding-ocr.ipynb\n"
     ]
    }
   ],
   "source": [
    "ls"
   ]
  },
  {
   "cell_type": "code",
   "execution_count": null,
   "metadata": {},
   "outputs": [],
   "source": []
  }
 ],
 "metadata": {
  "kernelspec": {
   "display_name": "Python 3",
   "language": "python",
   "name": "python3"
  },
  "language_info": {
   "codemirror_mode": {
    "name": "ipython",
    "version": 3
   },
   "file_extension": ".py",
   "mimetype": "text/x-python",
   "name": "python",
   "nbconvert_exporter": "python",
   "pygments_lexer": "ipython3",
   "version": "3.7.3"
  }
 },
 "nbformat": 4,
 "nbformat_minor": 4
}
